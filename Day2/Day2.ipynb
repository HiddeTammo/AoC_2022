{
 "cells": [
  {
   "cell_type": "code",
   "execution_count": 29,
   "id": "90d634b2",
   "metadata": {},
   "outputs": [],
   "source": [
    "#Input\n",
    "f = open('input.txt', 'r')\n",
    "x = f.read().splitlines()"
   ]
  },
  {
   "cell_type": "code",
   "execution_count": 37,
   "id": "c691a0a5",
   "metadata": {},
   "outputs": [
    {
     "name": "stdout",
     "output_type": "stream",
     "text": [
      "2500\n",
      "15572\n"
     ]
    }
   ],
   "source": [
    "#Parameters\n",
    "l = len(x)\n",
    "print(l)\n",
    "score = 0\n",
    "count = 0\n",
    "\n",
    "#Outcome\n",
    "lose = 0\n",
    "draw = 3\n",
    "win  = 6\n",
    "\n",
    "for i in range(l):\n",
    "    \n",
    "    #Split result \n",
    "    r = x[i].split(' ')\n",
    "    \n",
    "    if r[0] == \"A\":\n",
    "        r[0] = 1\n",
    "    elif r[0] == \"B\":\n",
    "        r[0] = 2\n",
    "    else:\n",
    "        r[0] = 3\n",
    "    \n",
    "    if r[1] == \"X\":\n",
    "        r[1] = 1\n",
    "    elif r[1] == \"Y\":\n",
    "        r[1] = 2\n",
    "    else:\n",
    "        r[1] = 3\n",
    "    \n",
    "    \n",
    "    \n",
    "    if r[0] == r[1]:\n",
    "        score += draw + r[1]\n",
    "    elif (r[0]+1) ==  r[1]:\n",
    "        score += win + r[1]\n",
    "    elif r[0] == 3 and r[1] == 1:\n",
    "        score += win + r[1]\n",
    "    else:\n",
    "        score += lose + r[1]\n",
    "        \n",
    "\n",
    "print(score)"
   ]
  },
  {
   "cell_type": "markdown",
   "id": "a91d3616",
   "metadata": {},
   "source": [
    "# Part 2"
   ]
  },
  {
   "cell_type": "code",
   "execution_count": 39,
   "id": "ca1a4887",
   "metadata": {},
   "outputs": [
    {
     "name": "stdout",
     "output_type": "stream",
     "text": [
      "2500\n",
      "16098\n"
     ]
    }
   ],
   "source": [
    "#Parameters\n",
    "l = len(x)\n",
    "print(l)\n",
    "score = 0\n",
    "count = 0\n",
    "\n",
    "#Outcome X, Y, Z\n",
    "lose = 0\n",
    "draw = 3\n",
    "win  = 6\n",
    "\n",
    "for i in range(l):\n",
    "    \n",
    "    #Split result \n",
    "    r = x[i].split(' ')\n",
    "    \n",
    "    if r[0] == \"A\":\n",
    "        r[0] = 1\n",
    "    elif r[0] == \"B\":\n",
    "        r[0] = 2\n",
    "    else:\n",
    "        r[0] = 3\n",
    "    \n",
    "    if r[1] == \"X\":\n",
    "        r[1] = \"L\"\n",
    "    elif r[1] == \"Y\":\n",
    "        r[1] = \"D\"\n",
    "    else:\n",
    "        r[1] = \"W\"\n",
    "    \n",
    "    \n",
    "    \n",
    "    if r[1] == \"D\":\n",
    "        #Draw plus what you played\n",
    "        score += draw + r[0]\n",
    "    elif r[1] == \"W\":\n",
    "        #Plus win outcome plus at least rock\n",
    "        score += win + 1\n",
    "        #Add score based on what you beat\n",
    "        if r[0] != 3:\n",
    "            score += r[0]\n",
    "    else:\n",
    "        #Lost playing rock\n",
    "        if r[0] == 1:\n",
    "            score += 3\n",
    "        #Lost playing one lower value\n",
    "        else: \n",
    "            score += r[0]-1\n",
    "\n",
    "print(score)"
   ]
  },
  {
   "cell_type": "code",
   "execution_count": null,
   "id": "fb6fefeb",
   "metadata": {},
   "outputs": [],
   "source": []
  }
 ],
 "metadata": {
  "kernelspec": {
   "display_name": "Python 3 (ipykernel)",
   "language": "python",
   "name": "python3"
  },
  "language_info": {
   "codemirror_mode": {
    "name": "ipython",
    "version": 3
   },
   "file_extension": ".py",
   "mimetype": "text/x-python",
   "name": "python",
   "nbconvert_exporter": "python",
   "pygments_lexer": "ipython3",
   "version": "3.10.0"
  }
 },
 "nbformat": 4,
 "nbformat_minor": 5
}
