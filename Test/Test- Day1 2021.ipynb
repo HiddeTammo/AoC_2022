{
 "cells": [
  {
   "cell_type": "markdown",
   "id": "168f1e73",
   "metadata": {},
   "source": [
    "# AdventOfCode 2021: Day 1"
   ]
  },
  {
   "cell_type": "code",
   "execution_count": null,
   "id": "1c2a189e",
   "metadata": {},
   "outputs": [],
   "source": [
    "#Libraries\n",
    "\n"
   ]
  },
  {
   "cell_type": "code",
   "execution_count": 22,
   "id": "d271b4cd",
   "metadata": {},
   "outputs": [
    {
     "data": {
      "text/plain": [
       "['189', '190', '199', '197', '200', '201', '199', '216', '224', '239']"
      ]
     },
     "execution_count": 22,
     "metadata": {},
     "output_type": "execute_result"
    }
   ],
   "source": [
    "#Input\n",
    "f = open('input.txt', 'r')\n",
    "x = f.read().splitlines()\n",
    "x[0:10]"
   ]
  },
  {
   "cell_type": "code",
   "execution_count": null,
   "id": "47b3518e",
   "metadata": {},
   "outputs": [],
   "source": []
  }
 ],
 "metadata": {
  "kernelspec": {
   "display_name": "Python 3 (ipykernel)",
   "language": "python",
   "name": "python3"
  },
  "language_info": {
   "codemirror_mode": {
    "name": "ipython",
    "version": 3
   },
   "file_extension": ".py",
   "mimetype": "text/x-python",
   "name": "python",
   "nbconvert_exporter": "python",
   "pygments_lexer": "ipython3",
   "version": "3.10.0"
  }
 },
 "nbformat": 4,
 "nbformat_minor": 5
}
