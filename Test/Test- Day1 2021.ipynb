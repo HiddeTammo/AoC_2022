{
 "cells": [
  {
   "cell_type": "markdown",
   "id": "f28848a3",
   "metadata": {},
   "source": [
    "# AdventOfCode 2021: Day 1"
   ]
  },
  {
   "cell_type": "code",
   "execution_count": 28,
   "id": "82ce5086",
   "metadata": {},
   "outputs": [],
   "source": [
    "#Libraries"
   ]
  },
  {
   "cell_type": "code",
   "execution_count": 29,
   "id": "5be60604",
   "metadata": {},
   "outputs": [
    {
     "data": {
      "text/plain": [
       "['189', '190', '199', '197', '200', '201', '199', '216', '224', '239']"
      ]
     },
     "execution_count": 29,
     "metadata": {},
     "output_type": "execute_result"
    }
   ],
   "source": [
    "#Input\n",
    "f = open('input.txt', 'r')\n",
    "x = f.read().splitlines()\n",
    "x[0:10]"
   ]
  },
  {
   "cell_type": "code",
   "execution_count": 30,
   "id": "2dfb5ede",
   "metadata": {},
   "outputs": [
    {
     "name": "stdout",
     "output_type": "stream",
     "text": [
      "1389\n"
     ]
    }
   ],
   "source": [
    "# Set up parameters\n",
    "l = len(x)\n",
    "c = x[0]\n",
    "count = 0\n",
    "\n",
    "for i in range(l):\n",
    "    \n",
    "    #Increase if higher\n",
    "    if c < x[i]:\n",
    "        count += 1\n",
    "    \n",
    "    #Update last height\n",
    "    c = x[i]\n",
    "\n",
    "#Answer\n",
    "print(count)"
   ]
  },
  {
   "cell_type": "markdown",
   "id": "ad0316a2",
   "metadata": {},
   "source": [
    "# Part 2"
   ]
  },
  {
   "cell_type": "code",
   "execution_count": 54,
   "id": "8d1a5ba6",
   "metadata": {},
   "outputs": [
    {
     "name": "stdout",
     "output_type": "stream",
     "text": [
      "1454\n"
     ]
    }
   ],
   "source": [
    "# Set up parameters\n",
    "l = len(x)\n",
    "c = x[0] + x[1] + x[2]\n",
    "count = 0\n",
    "\n",
    "for i in range(3,l):\n",
    "    \n",
    "    j = i\n",
    "    #Increase if higher\n",
    "    if c < x[i]:\n",
    "        count += 1\n",
    "    \n",
    "    #Update last height\n",
    "    c = x[i-2] + x[i-1] + x[i]\n",
    "    \n",
    "\n",
    "#Answer\n",
    "print(count)"
   ]
  },
  {
   "cell_type": "code",
   "execution_count": null,
   "id": "1544c6a3",
   "metadata": {},
   "outputs": [],
   "source": []
  }
 ],
 "metadata": {
  "kernelspec": {
   "display_name": "Python 3 (ipykernel)",
   "language": "python",
   "name": "python3"
  },
  "language_info": {
   "codemirror_mode": {
    "name": "ipython",
    "version": 3
   },
   "file_extension": ".py",
   "mimetype": "text/x-python",
   "name": "python",
   "nbconvert_exporter": "python",
   "pygments_lexer": "ipython3",
   "version": "3.10.0"
  }
 },
 "nbformat": 4,
 "nbformat_minor": 5
}
